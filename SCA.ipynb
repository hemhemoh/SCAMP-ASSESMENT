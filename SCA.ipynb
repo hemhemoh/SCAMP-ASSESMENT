{
  "nbformat": 4,
  "nbformat_minor": 0,
  "metadata": {
    "colab": {
      "name": "SCA.ipynb",
      "provenance": [],
      "collapsed_sections": [],
      "toc_visible": true,
      "mount_file_id": "1BUHytREE_Mluqkr-XeAxPLoZYWw3Ri6I",
      "authorship_tag": "ABX9TyOI1WtPSfLwu6DsN6DrVp/e",
      "include_colab_link": true
    },
    "kernelspec": {
      "name": "python3",
      "display_name": "Python 3"
    }
  },
  "cells": [
    {
      "cell_type": "markdown",
      "metadata": {
        "id": "view-in-github",
        "colab_type": "text"
      },
      "source": [
        "<a href=\"https://colab.research.google.com/github/hemhemoh/SCAMP-ASSESMENT/blob/main/SCA.ipynb\" target=\"_parent\"><img src=\"https://colab.research.google.com/assets/colab-badge.svg\" alt=\"Open In Colab\"/></a>"
      ]
    },
    {
      "cell_type": "markdown",
      "metadata": {
        "id": "BzdcUI7I5nHy"
      },
      "source": [
        "# SETUP\n",
        "\n"
      ]
    },
    {
      "cell_type": "code",
      "metadata": {
        "id": "ZGy01XAc75vX"
      },
      "source": [
        "import pandas as pd\r\n",
        "import numpy as np\r\n",
        "import seaborn as sns\r\n",
        "from matplotlib import pyplot as plt\r\n",
        "sns.set()"
      ],
      "execution_count": 1,
      "outputs": []
    },
    {
      "cell_type": "code",
      "metadata": {
        "id": "0PrRSOOf6ZTL",
        "colab": {
          "base_uri": "https://localhost:8080/",
          "height": 199
        },
        "outputId": "9072fc58-c2d9-4d53-cf81-a43178ca660c"
      },
      "source": [
        "data = pd.read_csv('/content/drive/MyDrive/bestsellers with categories.csv')\n",
        "\n",
        "data.head()"
      ],
      "execution_count": 2,
      "outputs": [
        {
          "output_type": "execute_result",
          "data": {
            "text/html": [
              "<div>\n",
              "<style scoped>\n",
              "    .dataframe tbody tr th:only-of-type {\n",
              "        vertical-align: middle;\n",
              "    }\n",
              "\n",
              "    .dataframe tbody tr th {\n",
              "        vertical-align: top;\n",
              "    }\n",
              "\n",
              "    .dataframe thead th {\n",
              "        text-align: right;\n",
              "    }\n",
              "</style>\n",
              "<table border=\"1\" class=\"dataframe\">\n",
              "  <thead>\n",
              "    <tr style=\"text-align: right;\">\n",
              "      <th></th>\n",
              "      <th>Name</th>\n",
              "      <th>Author</th>\n",
              "      <th>User Rating</th>\n",
              "      <th>Reviews</th>\n",
              "      <th>Price</th>\n",
              "      <th>Year</th>\n",
              "      <th>Genre</th>\n",
              "    </tr>\n",
              "  </thead>\n",
              "  <tbody>\n",
              "    <tr>\n",
              "      <th>0</th>\n",
              "      <td>10-Day Green Smoothie Cleanse</td>\n",
              "      <td>JJ Smith</td>\n",
              "      <td>4.7</td>\n",
              "      <td>17350</td>\n",
              "      <td>8</td>\n",
              "      <td>2016</td>\n",
              "      <td>Non Fiction</td>\n",
              "    </tr>\n",
              "    <tr>\n",
              "      <th>1</th>\n",
              "      <td>11/22/63: A Novel</td>\n",
              "      <td>Stephen King</td>\n",
              "      <td>4.6</td>\n",
              "      <td>2052</td>\n",
              "      <td>22</td>\n",
              "      <td>2011</td>\n",
              "      <td>Fiction</td>\n",
              "    </tr>\n",
              "    <tr>\n",
              "      <th>2</th>\n",
              "      <td>12 Rules for Life: An Antidote to Chaos</td>\n",
              "      <td>Jordan B. Peterson</td>\n",
              "      <td>4.7</td>\n",
              "      <td>18979</td>\n",
              "      <td>15</td>\n",
              "      <td>2018</td>\n",
              "      <td>Non Fiction</td>\n",
              "    </tr>\n",
              "    <tr>\n",
              "      <th>3</th>\n",
              "      <td>1984 (Signet Classics)</td>\n",
              "      <td>George Orwell</td>\n",
              "      <td>4.7</td>\n",
              "      <td>21424</td>\n",
              "      <td>6</td>\n",
              "      <td>2017</td>\n",
              "      <td>Fiction</td>\n",
              "    </tr>\n",
              "    <tr>\n",
              "      <th>4</th>\n",
              "      <td>5,000 Awesome Facts (About Everything!) (Natio...</td>\n",
              "      <td>National Geographic Kids</td>\n",
              "      <td>4.8</td>\n",
              "      <td>7665</td>\n",
              "      <td>12</td>\n",
              "      <td>2019</td>\n",
              "      <td>Non Fiction</td>\n",
              "    </tr>\n",
              "  </tbody>\n",
              "</table>\n",
              "</div>"
            ],
            "text/plain": [
              "                                                Name  ...        Genre\n",
              "0                      10-Day Green Smoothie Cleanse  ...  Non Fiction\n",
              "1                                  11/22/63: A Novel  ...      Fiction\n",
              "2            12 Rules for Life: An Antidote to Chaos  ...  Non Fiction\n",
              "3                             1984 (Signet Classics)  ...      Fiction\n",
              "4  5,000 Awesome Facts (About Everything!) (Natio...  ...  Non Fiction\n",
              "\n",
              "[5 rows x 7 columns]"
            ]
          },
          "metadata": {
            "tags": []
          },
          "execution_count": 2
        }
      ]
    },
    {
      "cell_type": "markdown",
      "metadata": {
        "id": "_dhe2omK6WhY"
      },
      "source": [
        "# THE BEST SELLING BOOKS OF THE DECADE\n"
      ]
    },
    {
      "cell_type": "code",
      "metadata": {
        "id": "gpwL6zHvK1cj",
        "colab": {
          "base_uri": "https://localhost:8080/",
          "height": 654
        },
        "outputId": "d4e6bf44-7738-4cec-bdbc-10b16d5d36fd"
      },
      "source": [
        "#Sorting the data variable according to reviews and going through the first 20 rows\n",
        "dataa = data.sort_values('Reviews', ascending = False)\n",
        "\n",
        "dataa.head(20)"
      ],
      "execution_count": 3,
      "outputs": [
        {
          "output_type": "execute_result",
          "data": {
            "text/html": [
              "<div>\n",
              "<style scoped>\n",
              "    .dataframe tbody tr th:only-of-type {\n",
              "        vertical-align: middle;\n",
              "    }\n",
              "\n",
              "    .dataframe tbody tr th {\n",
              "        vertical-align: top;\n",
              "    }\n",
              "\n",
              "    .dataframe thead th {\n",
              "        text-align: right;\n",
              "    }\n",
              "</style>\n",
              "<table border=\"1\" class=\"dataframe\">\n",
              "  <thead>\n",
              "    <tr style=\"text-align: right;\">\n",
              "      <th></th>\n",
              "      <th>Name</th>\n",
              "      <th>Author</th>\n",
              "      <th>User Rating</th>\n",
              "      <th>Reviews</th>\n",
              "      <th>Price</th>\n",
              "      <th>Year</th>\n",
              "      <th>Genre</th>\n",
              "    </tr>\n",
              "  </thead>\n",
              "  <tbody>\n",
              "    <tr>\n",
              "      <th>534</th>\n",
              "      <td>Where the Crawdads Sing</td>\n",
              "      <td>Delia Owens</td>\n",
              "      <td>4.8</td>\n",
              "      <td>87841</td>\n",
              "      <td>15</td>\n",
              "      <td>2019</td>\n",
              "      <td>Fiction</td>\n",
              "    </tr>\n",
              "    <tr>\n",
              "      <th>382</th>\n",
              "      <td>The Girl on the Train</td>\n",
              "      <td>Paula Hawkins</td>\n",
              "      <td>4.1</td>\n",
              "      <td>79446</td>\n",
              "      <td>18</td>\n",
              "      <td>2015</td>\n",
              "      <td>Fiction</td>\n",
              "    </tr>\n",
              "    <tr>\n",
              "      <th>383</th>\n",
              "      <td>The Girl on the Train</td>\n",
              "      <td>Paula Hawkins</td>\n",
              "      <td>4.1</td>\n",
              "      <td>79446</td>\n",
              "      <td>7</td>\n",
              "      <td>2016</td>\n",
              "      <td>Fiction</td>\n",
              "    </tr>\n",
              "    <tr>\n",
              "      <th>32</th>\n",
              "      <td>Becoming</td>\n",
              "      <td>Michelle Obama</td>\n",
              "      <td>4.8</td>\n",
              "      <td>61133</td>\n",
              "      <td>11</td>\n",
              "      <td>2018</td>\n",
              "      <td>Non Fiction</td>\n",
              "    </tr>\n",
              "    <tr>\n",
              "      <th>33</th>\n",
              "      <td>Becoming</td>\n",
              "      <td>Michelle Obama</td>\n",
              "      <td>4.8</td>\n",
              "      <td>61133</td>\n",
              "      <td>11</td>\n",
              "      <td>2019</td>\n",
              "      <td>Non Fiction</td>\n",
              "    </tr>\n",
              "    <tr>\n",
              "      <th>137</th>\n",
              "      <td>Gone Girl</td>\n",
              "      <td>Gillian Flynn</td>\n",
              "      <td>4.0</td>\n",
              "      <td>57271</td>\n",
              "      <td>9</td>\n",
              "      <td>2014</td>\n",
              "      <td>Fiction</td>\n",
              "    </tr>\n",
              "    <tr>\n",
              "      <th>135</th>\n",
              "      <td>Gone Girl</td>\n",
              "      <td>Gillian Flynn</td>\n",
              "      <td>4.0</td>\n",
              "      <td>57271</td>\n",
              "      <td>10</td>\n",
              "      <td>2012</td>\n",
              "      <td>Fiction</td>\n",
              "    </tr>\n",
              "    <tr>\n",
              "      <th>136</th>\n",
              "      <td>Gone Girl</td>\n",
              "      <td>Gillian Flynn</td>\n",
              "      <td>4.0</td>\n",
              "      <td>57271</td>\n",
              "      <td>10</td>\n",
              "      <td>2013</td>\n",
              "      <td>Fiction</td>\n",
              "    </tr>\n",
              "    <tr>\n",
              "      <th>368</th>\n",
              "      <td>The Fault in Our Stars</td>\n",
              "      <td>John Green</td>\n",
              "      <td>4.7</td>\n",
              "      <td>50482</td>\n",
              "      <td>13</td>\n",
              "      <td>2014</td>\n",
              "      <td>Fiction</td>\n",
              "    </tr>\n",
              "    <tr>\n",
              "      <th>367</th>\n",
              "      <td>The Fault in Our Stars</td>\n",
              "      <td>John Green</td>\n",
              "      <td>4.7</td>\n",
              "      <td>50482</td>\n",
              "      <td>7</td>\n",
              "      <td>2014</td>\n",
              "      <td>Fiction</td>\n",
              "    </tr>\n",
              "    <tr>\n",
              "      <th>365</th>\n",
              "      <td>The Fault in Our Stars</td>\n",
              "      <td>John Green</td>\n",
              "      <td>4.7</td>\n",
              "      <td>50482</td>\n",
              "      <td>13</td>\n",
              "      <td>2012</td>\n",
              "      <td>Fiction</td>\n",
              "    </tr>\n",
              "    <tr>\n",
              "      <th>366</th>\n",
              "      <td>The Fault in Our Stars</td>\n",
              "      <td>John Green</td>\n",
              "      <td>4.7</td>\n",
              "      <td>50482</td>\n",
              "      <td>13</td>\n",
              "      <td>2013</td>\n",
              "      <td>Fiction</td>\n",
              "    </tr>\n",
              "    <tr>\n",
              "      <th>437</th>\n",
              "      <td>The Nightingale: A Novel</td>\n",
              "      <td>Kristin Hannah</td>\n",
              "      <td>4.8</td>\n",
              "      <td>49288</td>\n",
              "      <td>11</td>\n",
              "      <td>2015</td>\n",
              "      <td>Fiction</td>\n",
              "    </tr>\n",
              "    <tr>\n",
              "      <th>438</th>\n",
              "      <td>The Nightingale: A Novel</td>\n",
              "      <td>Kristin Hannah</td>\n",
              "      <td>4.8</td>\n",
              "      <td>49288</td>\n",
              "      <td>11</td>\n",
              "      <td>2016</td>\n",
              "      <td>Fiction</td>\n",
              "    </tr>\n",
              "    <tr>\n",
              "      <th>106</th>\n",
              "      <td>Fifty Shades of Grey: Book One of the Fifty Sh...</td>\n",
              "      <td>E L James</td>\n",
              "      <td>3.8</td>\n",
              "      <td>47265</td>\n",
              "      <td>14</td>\n",
              "      <td>2012</td>\n",
              "      <td>Fiction</td>\n",
              "    </tr>\n",
              "    <tr>\n",
              "      <th>107</th>\n",
              "      <td>Fifty Shades of Grey: Book One of the Fifty Sh...</td>\n",
              "      <td>E L James</td>\n",
              "      <td>3.8</td>\n",
              "      <td>47265</td>\n",
              "      <td>14</td>\n",
              "      <td>2013</td>\n",
              "      <td>Fiction</td>\n",
              "    </tr>\n",
              "    <tr>\n",
              "      <th>433</th>\n",
              "      <td>The Martian</td>\n",
              "      <td>Andy Weir</td>\n",
              "      <td>4.7</td>\n",
              "      <td>39459</td>\n",
              "      <td>9</td>\n",
              "      <td>2015</td>\n",
              "      <td>Fiction</td>\n",
              "    </tr>\n",
              "    <tr>\n",
              "      <th>20</th>\n",
              "      <td>All the Light We Cannot See</td>\n",
              "      <td>Anthony Doerr</td>\n",
              "      <td>4.6</td>\n",
              "      <td>36348</td>\n",
              "      <td>14</td>\n",
              "      <td>2014</td>\n",
              "      <td>Fiction</td>\n",
              "    </tr>\n",
              "    <tr>\n",
              "      <th>21</th>\n",
              "      <td>All the Light We Cannot See</td>\n",
              "      <td>Anthony Doerr</td>\n",
              "      <td>4.6</td>\n",
              "      <td>36348</td>\n",
              "      <td>14</td>\n",
              "      <td>2015</td>\n",
              "      <td>Fiction</td>\n",
              "    </tr>\n",
              "    <tr>\n",
              "      <th>338</th>\n",
              "      <td>The Alchemist</td>\n",
              "      <td>Paulo Coelho</td>\n",
              "      <td>4.7</td>\n",
              "      <td>35799</td>\n",
              "      <td>39</td>\n",
              "      <td>2014</td>\n",
              "      <td>Fiction</td>\n",
              "    </tr>\n",
              "  </tbody>\n",
              "</table>\n",
              "</div>"
            ],
            "text/plain": [
              "                                                  Name  ...        Genre\n",
              "534                            Where the Crawdads Sing  ...      Fiction\n",
              "382                              The Girl on the Train  ...      Fiction\n",
              "383                              The Girl on the Train  ...      Fiction\n",
              "32                                            Becoming  ...  Non Fiction\n",
              "33                                            Becoming  ...  Non Fiction\n",
              "137                                          Gone Girl  ...      Fiction\n",
              "135                                          Gone Girl  ...      Fiction\n",
              "136                                          Gone Girl  ...      Fiction\n",
              "368                             The Fault in Our Stars  ...      Fiction\n",
              "367                             The Fault in Our Stars  ...      Fiction\n",
              "365                             The Fault in Our Stars  ...      Fiction\n",
              "366                             The Fault in Our Stars  ...      Fiction\n",
              "437                           The Nightingale: A Novel  ...      Fiction\n",
              "438                           The Nightingale: A Novel  ...      Fiction\n",
              "106  Fifty Shades of Grey: Book One of the Fifty Sh...  ...      Fiction\n",
              "107  Fifty Shades of Grey: Book One of the Fifty Sh...  ...      Fiction\n",
              "433                                        The Martian  ...      Fiction\n",
              "20                         All the Light We Cannot See  ...      Fiction\n",
              "21                         All the Light We Cannot See  ...      Fiction\n",
              "338                                      The Alchemist  ...      Fiction\n",
              "\n",
              "[20 rows x 7 columns]"
            ]
          },
          "metadata": {
            "tags": []
          },
          "execution_count": 3
        }
      ]
    },
    {
      "cell_type": "code",
      "metadata": {
        "colab": {
          "base_uri": "https://localhost:8080/",
          "height": 433
        },
        "id": "wx3tZRHckV7g",
        "outputId": "dddbcd21-9dd7-4e0c-878f-2df1fb177977"
      },
      "source": [
        "#visualizing the first 5 books of the decade using reviews as a determinant\r\n",
        "plt.figure(figsize=(20, 8))\r\n",
        "plt.bar(dataa.Name.head(10), dataa.Reviews.head(10), width=0.5, align='edge') \r\n",
        "\r\n",
        "plt.show()\r\n"
      ],
      "execution_count": 4,
      "outputs": [
        {
          "output_type": "display_data",
          "data": {
            "image/png": "[encoded data removed]",
            "text/plain": [
              "<Figure size 1440x576 with 1 Axes>"
            ]
          },
          "metadata": {
            "tags": [],
            "needs_background": "light"
          }
        }
      ]
    },
    {
      "cell_type": "markdown",
      "metadata": {
        "id": "-ooyEuzi6-vZ"
      },
      "source": [
        "# PERCENTAGE OF FICTION TO NON-FICTION"
      ]
    },
    {
      "cell_type": "code",
      "metadata": {
        "colab": {
          "base_uri": "https://localhost:8080/",
          "height": 248
        },
        "id": "tH8a37W1xiTo",
        "outputId": "69f48fb1-3736-4591-ced3-e3ac4fb9503d"
      },
      "source": [
        "#using pie-chart to visualize the percentage of fiction to non-fiction\r\n",
        "explode =(0.0,0.2)\r\n",
        "\r\n",
        "colors = ( \"blue\", \"green\")\r\n",
        "\r\n",
        "data.groupby('Genre').size().plot(kind='pie', explode=explode,startangle=45, colors=colors, autopct='%1.1f%%')\r\n",
        "\r\n",
        "\r\n",
        "plt.show()"
      ],
      "execution_count": 5,
      "outputs": [
        {
          "output_type": "display_data",
          "data": {
            "image/png": "[encoded data removed]",
            "text/plain": [
              "<Figure size 432x288 with 1 Axes>"
            ]
          },
          "metadata": {
            "tags": []
          }
        }
      ]
    },
    {
      "cell_type": "markdown",
      "metadata": {
        "id": "t8rjFBn47Ryc"
      },
      "source": [
        "# TRENDS OVER THE YEARS\n"
      ]
    },
    {
      "cell_type": "code",
      "metadata": {
        "colab": {
          "base_uri": "https://localhost:8080/",
          "height": 199
        },
        "id": "Kq09BUSskohP",
        "outputId": "6b3e24e9-68d6-460a-e55c-63dcabcf0374"
      },
      "source": [
        "#sorting the data set according to year \n",
        "datah = data.sort_values('Year', ascending = True)\n",
        "\n",
        "datah.head()"
      ],
      "execution_count": 6,
      "outputs": [
        {
          "output_type": "execute_result",
          "data": {
            "text/html": [
              "<div>\n",
              "<style scoped>\n",
              "    .dataframe tbody tr th:only-of-type {\n",
              "        vertical-align: middle;\n",
              "    }\n",
              "\n",
              "    .dataframe tbody tr th {\n",
              "        vertical-align: top;\n",
              "    }\n",
              "\n",
              "    .dataframe thead th {\n",
              "        text-align: right;\n",
              "    }\n",
              "</style>\n",
              "<table border=\"1\" class=\"dataframe\">\n",
              "  <thead>\n",
              "    <tr style=\"text-align: right;\">\n",
              "      <th></th>\n",
              "      <th>Name</th>\n",
              "      <th>Author</th>\n",
              "      <th>User Rating</th>\n",
              "      <th>Reviews</th>\n",
              "      <th>Price</th>\n",
              "      <th>Year</th>\n",
              "      <th>Genre</th>\n",
              "    </tr>\n",
              "  </thead>\n",
              "  <tbody>\n",
              "    <tr>\n",
              "      <th>177</th>\n",
              "      <td>I, Alex Cross</td>\n",
              "      <td>James Patterson</td>\n",
              "      <td>4.6</td>\n",
              "      <td>1320</td>\n",
              "      <td>7</td>\n",
              "      <td>2009</td>\n",
              "      <td>Fiction</td>\n",
              "    </tr>\n",
              "    <tr>\n",
              "      <th>131</th>\n",
              "      <td>Glenn Beck's Common Sense: The Case Against an...</td>\n",
              "      <td>Glenn Beck</td>\n",
              "      <td>4.6</td>\n",
              "      <td>1365</td>\n",
              "      <td>11</td>\n",
              "      <td>2009</td>\n",
              "      <td>Non Fiction</td>\n",
              "    </tr>\n",
              "    <tr>\n",
              "      <th>417</th>\n",
              "      <td>The Last Lecture</td>\n",
              "      <td>Randy Pausch</td>\n",
              "      <td>4.7</td>\n",
              "      <td>4028</td>\n",
              "      <td>9</td>\n",
              "      <td>2009</td>\n",
              "      <td>Non Fiction</td>\n",
              "    </tr>\n",
              "    <tr>\n",
              "      <th>241</th>\n",
              "      <td>New Moon (The Twilight Saga)</td>\n",
              "      <td>Stephenie Meyer</td>\n",
              "      <td>4.6</td>\n",
              "      <td>5680</td>\n",
              "      <td>10</td>\n",
              "      <td>2009</td>\n",
              "      <td>Fiction</td>\n",
              "    </tr>\n",
              "    <tr>\n",
              "      <th>72</th>\n",
              "      <td>Diary of a Wimpy Kid: The Last Straw (Book 3)</td>\n",
              "      <td>Jeff Kinney</td>\n",
              "      <td>4.8</td>\n",
              "      <td>3837</td>\n",
              "      <td>15</td>\n",
              "      <td>2009</td>\n",
              "      <td>Fiction</td>\n",
              "    </tr>\n",
              "  </tbody>\n",
              "</table>\n",
              "</div>"
            ],
            "text/plain": [
              "                                                  Name  ...        Genre\n",
              "177                                      I, Alex Cross  ...      Fiction\n",
              "131  Glenn Beck's Common Sense: The Case Against an...  ...  Non Fiction\n",
              "417                                   The Last Lecture  ...  Non Fiction\n",
              "241                       New Moon (The Twilight Saga)  ...      Fiction\n",
              "72       Diary of a Wimpy Kid: The Last Straw (Book 3)  ...      Fiction\n",
              "\n",
              "[5 rows x 7 columns]"
            ]
          },
          "metadata": {
            "tags": []
          },
          "execution_count": 6
        }
      ]
    },
    {
      "cell_type": "code",
      "metadata": {
        "colab": {
          "base_uri": "https://localhost:8080/",
          "height": 302
        },
        "id": "n-u5Ei8rlHcU",
        "outputId": "d235af81-469a-4f61-fef5-5f512d520c99"
      },
      "source": [
        "#using the genre column as a determinant for trends over the years\n",
        "sns.scatterplot(x='Year', y='Reviews', hue='Genre', data=datah)"
      ],
      "execution_count": 7,
      "outputs": [
        {
          "output_type": "execute_result",
          "data": {
            "text/plain": [
              "<matplotlib.axes._subplots.AxesSubplot at 0x7f96448228d0>"
            ]
          },
          "metadata": {
            "tags": []
          },
          "execution_count": 7
        },
        {
          "output_type": "display_data",
          "data": {
            "image/png": "[encoded data removed]",
            "text/plain": [
              "<Figure size 432x288 with 1 Axes>"
            ]
          },
          "metadata": {
            "tags": [],
            "needs_background": "light"
          }
        }
      ]
    },
    {
      "cell_type": "markdown",
      "metadata": {
        "id": "oxGaiy0Hbw62"
      },
      "source": [
        "The scatter plot above shows us that as time went on people read more and people read more of non-fiction books. "
      ]
    },
    {
      "cell_type": "markdown",
      "metadata": {
        "id": "xUnCcxaP7t9f"
      },
      "source": [
        "# TOP 10 AUTHORS ACCORDING TO REVIEWS"
      ]
    },
    {
      "cell_type": "code",
      "metadata": {
        "id": "XeF_7evICbKZ",
        "colab": {
          "base_uri": "https://localhost:8080/",
          "height": 410
        },
        "outputId": "504d9465-5db4-4b55-91d3-0d54efa7c204"
      },
      "source": [
        "#elimanting duplicates of books that appeared more than once and also finding the mean of the reviews the books got\n",
        "dayra = data.pivot_table(values=\"Reviews\", index=[\"Name\", \"Author\"], aggfunc=np.mean).reset_index()\n",
        "dayra"
      ],
      "execution_count": 8,
      "outputs": [
        {
          "output_type": "execute_result",
          "data": {
            "text/html": [
              "<div>\n",
              "<style scoped>\n",
              "    .dataframe tbody tr th:only-of-type {\n",
              "        vertical-align: middle;\n",
              "    }\n",
              "\n",
              "    .dataframe tbody tr th {\n",
              "        vertical-align: top;\n",
              "    }\n",
              "\n",
              "    .dataframe thead th {\n",
              "        text-align: right;\n",
              "    }\n",
              "</style>\n",
              "<table border=\"1\" class=\"dataframe\">\n",
              "  <thead>\n",
              "    <tr style=\"text-align: right;\">\n",
              "      <th></th>\n",
              "      <th>Name</th>\n",
              "      <th>Author</th>\n",
              "      <th>Reviews</th>\n",
              "    </tr>\n",
              "  </thead>\n",
              "  <tbody>\n",
              "    <tr>\n",
              "      <th>0</th>\n",
              "      <td>10-Day Green Smoothie Cleanse</td>\n",
              "      <td>JJ Smith</td>\n",
              "      <td>17350.0</td>\n",
              "    </tr>\n",
              "    <tr>\n",
              "      <th>1</th>\n",
              "      <td>11/22/63: A Novel</td>\n",
              "      <td>Stephen King</td>\n",
              "      <td>2052.0</td>\n",
              "    </tr>\n",
              "    <tr>\n",
              "      <th>2</th>\n",
              "      <td>12 Rules for Life: An Antidote to Chaos</td>\n",
              "      <td>Jordan B. Peterson</td>\n",
              "      <td>18979.0</td>\n",
              "    </tr>\n",
              "    <tr>\n",
              "      <th>3</th>\n",
              "      <td>1984 (Signet Classics)</td>\n",
              "      <td>George Orwell</td>\n",
              "      <td>21424.0</td>\n",
              "    </tr>\n",
              "    <tr>\n",
              "      <th>4</th>\n",
              "      <td>5,000 Awesome Facts (About Everything!) (Natio...</td>\n",
              "      <td>National Geographic Kids</td>\n",
              "      <td>7665.0</td>\n",
              "    </tr>\n",
              "    <tr>\n",
              "      <th>...</th>\n",
              "      <td>...</td>\n",
              "      <td>...</td>\n",
              "      <td>...</td>\n",
              "    </tr>\n",
              "    <tr>\n",
              "      <th>346</th>\n",
              "      <td>Winter of the World: Book Two of the Century T...</td>\n",
              "      <td>Ken Follett</td>\n",
              "      <td>10760.0</td>\n",
              "    </tr>\n",
              "    <tr>\n",
              "      <th>347</th>\n",
              "      <td>Women Food and God: An Unexpected Path to Almo...</td>\n",
              "      <td>Geneen Roth</td>\n",
              "      <td>1302.0</td>\n",
              "    </tr>\n",
              "    <tr>\n",
              "      <th>348</th>\n",
              "      <td>Wonder</td>\n",
              "      <td>R. J. Palacio</td>\n",
              "      <td>21625.0</td>\n",
              "    </tr>\n",
              "    <tr>\n",
              "      <th>349</th>\n",
              "      <td>Wrecking Ball (Diary of a Wimpy Kid Book 14)</td>\n",
              "      <td>Jeff Kinney</td>\n",
              "      <td>9413.0</td>\n",
              "    </tr>\n",
              "    <tr>\n",
              "      <th>350</th>\n",
              "      <td>You Are a Badass: How to Stop Doubting Your Gr...</td>\n",
              "      <td>Jen Sincero</td>\n",
              "      <td>14331.0</td>\n",
              "    </tr>\n",
              "  </tbody>\n",
              "</table>\n",
              "<p>351 rows × 3 columns</p>\n",
              "</div>"
            ],
            "text/plain": [
              "                                                  Name  ...  Reviews\n",
              "0                        10-Day Green Smoothie Cleanse  ...  17350.0\n",
              "1                                    11/22/63: A Novel  ...   2052.0\n",
              "2              12 Rules for Life: An Antidote to Chaos  ...  18979.0\n",
              "3                               1984 (Signet Classics)  ...  21424.0\n",
              "4    5,000 Awesome Facts (About Everything!) (Natio...  ...   7665.0\n",
              "..                                                 ...  ...      ...\n",
              "346  Winter of the World: Book Two of the Century T...  ...  10760.0\n",
              "347  Women Food and God: An Unexpected Path to Almo...  ...   1302.0\n",
              "348                                             Wonder  ...  21625.0\n",
              "349       Wrecking Ball (Diary of a Wimpy Kid Book 14)  ...   9413.0\n",
              "350  You Are a Badass: How to Stop Doubting Your Gr...  ...  14331.0\n",
              "\n",
              "[351 rows x 3 columns]"
            ]
          },
          "metadata": {
            "tags": []
          },
          "execution_count": 8
        }
      ]
    },
    {
      "cell_type": "code",
      "metadata": {
        "id": "nnmXnUtozC_L"
      },
      "source": [
        "#summing up reviews of the books written by same authors\n",
        "\n",
        "sfv = dayra.pivot_table(values='Reviews', index='Author', aggfunc=np.sum).sort_values('Reviews', ascending=False)"
      ],
      "execution_count": 9,
      "outputs": []
    },
    {
      "cell_type": "code",
      "metadata": {
        "colab": {
          "base_uri": "https://localhost:8080/",
          "height": 368
        },
        "id": "N5oPL5LhzAY4",
        "outputId": "b5ec69af-98b0-42e4-9732-01388f29f806"
      },
      "source": [
        "plt.plot(sfv.index[:10], sfv.Reviews.head(10), color='green', linestyle='--', marker='d')\n",
        "plt.xticks(rotation='vertical')\n",
        "plt.title('A lineplot of Top 10 Authors According to Reviews', fontsize=20,color='red')\n",
        "plt.show()"
      ],
      "execution_count": 21,
      "outputs": [
        {
          "output_type": "display_data",
          "data": {
            "image/png": "[encoded data removed]",
            "text/plain": [
              "<Figure size 432x288 with 1 Axes>"
            ]
          },
          "metadata": {
            "tags": [],
            "needs_background": "light"
          }
        }
      ]
    },
    {
      "cell_type": "code",
      "metadata": {
        "colab": {
          "base_uri": "https://localhost:8080/",
          "height": 368
        },
        "id": "BVhcukix1Vdv",
        "outputId": "9c8ec77a-8431-47fc-e773-fc9e697c9cff"
      },
      "source": [
        "plt.bar(sfv.index[:10], sfv.Reviews.head(10))\n",
        "plt.xticks(rotation='vertical')\n",
        "plt.title('A Barchart of Top 10 Authors According to Reviews', fontsize=20,color='brown')\n",
        "plt.show()"
      ],
      "execution_count": 22,
      "outputs": [
        {
          "output_type": "display_data",
          "data": {
            "image/png": "[encoded data removed]",
            "text/plain": [
              "<Figure size 432x288 with 1 Axes>"
            ]
          },
          "metadata": {
            "tags": [],
            "needs_background": "light"
          }
        }
      ]
    },
    {
      "cell_type": "code",
      "metadata": {
        "id": "28z522DghGb2"
      },
      "source": [
        ""
      ],
      "execution_count": null,
      "outputs": []
    }
  ]
}